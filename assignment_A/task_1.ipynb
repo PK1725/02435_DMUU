{
 "cells": [
  {
   "cell_type": "code",
   "execution_count": 5,
   "metadata": {},
   "outputs": [
    {
     "name": "stdout",
     "output_type": "stream",
     "text": [
      "The autoreload extension is already loaded. To reload it, use:\n",
      "  %reload_ext autoreload\n"
     ]
    }
   ],
   "source": [
    "import sys\n",
    "sys.path.append(\"v2_Assignment_Codes\")  # Add the folder to the search path\n",
    "\n",
    "#load data\n",
    "from v2_data import get_fixed_data\n",
    "from PriceProcess import price_model\n",
    "from WindProcess import wind_model\n",
    "from utils import generate_time_series,generate_experiment_series\n",
    "\n",
    "import matplotlib.pyplot as plt\n",
    "import numpy as np\n",
    "from tqdm import tqdm\n",
    "from pyomo.environ import *\n",
    "\n",
    "%load_ext autoreload\n",
    "%autoreload 2\n",
    "plt.rcParams.update({'font.size': 13})"
   ]
  },
  {
   "cell_type": "code",
   "execution_count": 6,
   "metadata": {},
   "outputs": [],
   "source": [
    "data = get_fixed_data()\n",
    "T = data['num_timeslots']"
   ]
  },
  {
   "cell_type": "code",
   "execution_count": 7,
   "metadata": {},
   "outputs": [],
   "source": [
    "# ensure we always use the same time series for all tasks and experiments\n",
    "prices,winds = generate_experiment_series()"
   ]
  },
  {
   "cell_type": "markdown",
   "metadata": {},
   "source": [
    "# Task 1"
   ]
  },
  {
   "cell_type": "code",
   "execution_count": 8,
   "metadata": {},
   "outputs": [],
   "source": [
    "def check_feasibility(state,decison,data):\n",
    "    t,h,e_on_tm1,wind,wind_previous,price,price_previous = state\n",
    "    e_on_t,e_p2h,e_h2p,p_grid = decison\n",
    "    # check demand constraint\n",
    "    if not (data['demand_schedule'][t] <= \n",
    "            p_grid+wind+data['conversion_h2p']*e_h2p-data['conversion_p2h']*e_p2h\n",
    "            or np.isclose(data['demand_schedule'][t], p_grid+wind+data['conversion_h2p']*e_h2p-data['conversion_p2h']*e_p2h)):\n",
    "        raise ValueError(f\"Demand constraint violated, t={t}, demand={data['demand_schedule'][t]} was {p_grid+wind+data['conversion_h2p']*e_h2p-data['conversion_p2h']*e_p2h}\")\n",
    "    # check tank constraint\n",
    "    if not (e_h2p <= data['hydrogen_capacity']):\n",
    "        raise ValueError(f\"Tank constraint violated, t={t}, cap={data['hydrogen_capacity']} was {e_h2p}\")\n",
    "    # check p2h conversion constraint\n",
    "    if not (data['conversion_p2h']*e_p2h <= data['p2h_max_rate']*e_on_tm1):\n",
    "        raise ValueError(f\"p2h conversion constraint violated, t={t}, cap={data['p2h_max_rate']*e_on_tm1} was {e_p2h}\")\n",
    "    # check h2p conversion constraint\n",
    "    if not (data['conversion_h2p']*e_h2p <= data['h2p_max_rate']):\n",
    "        raise ValueError(f\"h2p conversion constraint violated, t={t}, cap={data['h2p_max_rate']} was {e_h2p}\")\n",
    "    # check h2p supply constraint\n",
    "    if not (e_h2p <= h):\n",
    "        raise ValueError(f\"h2p supply constraint violated, t={t}, cap={h} was {e_h2p}\")\n",
    "    # check domains\n",
    "    if not (e_on_t in [0,1]):\n",
    "        raise ValueError('e_activate not in [0,1]')\n",
    "    if not (e_p2h >= 0 and e_h2p >= 0 and p_grid >= 0):\n",
    "        raise ValueError('e_p2h,e_h2p,p_grid not >= 0')\n",
    "    "
   ]
  },
  {
   "cell_type": "code",
   "execution_count": 9,
   "metadata": {},
   "outputs": [],
   "source": [
    "def sim_MDP_exp(policy,wind,price):\n",
    "    T = data['num_timeslots']\n",
    "    cost = 0\n",
    "\n",
    "    # state variables\n",
    "    h = np.zeros(T)\n",
    "    \n",
    "    # decision variables\n",
    "    e_on = np.zeros(T)\n",
    "    e_p2h = np.zeros(T)\n",
    "    e_h2p = np.zeros(T)\n",
    "    p_grid = np.zeros(T)\n",
    "\n",
    "    for t in range(T):\n",
    "\n",
    "        ### get state\n",
    "        state = (t,h[t],e_on[t-1],wind[t],wind[t-1],price[t],price[t-1]) if t > 0 else (t,h[t],0,wind[t],data['wind_power_previous'],price[t],data['price_previous'])\n",
    "        \n",
    "        # decision update\n",
    "        decision = policy(*state,data)\n",
    "        e_on[t],e_p2h[t],e_h2p[t],p_grid[t] = decision\n",
    "        # check feasibility of decision\n",
    "        check_feasibility(state,decision,data)\n",
    "\n",
    "        ### state update based on decision\n",
    "\n",
    "        # update hydrogen tank\n",
    "        if t+1 < T: h[t+1] = h[t] + data['conversion_p2h']*e_p2h[t] - e_h2p[t]\n",
    "\n",
    "        ### update cost\n",
    "        cost += price[t]*p_grid[t] + data['electrolyzer_cost']*e_on[t-1]\n",
    "\n",
    "    return cost,e_on,e_p2h,e_h2p,p_grid,h,price,wind\n",
    "\n",
    "def sim_MDP(E, policy, winds, prices):\n",
    "    total_cost = 0\n",
    "    costs = []\n",
    "    for i in tqdm(range(E), desc=\"Simulating MDP\"):\n",
    "        wind = winds[i]\n",
    "        price = prices[i]\n",
    "        cost, e_on, e_p2h, e_h2p, p_grid, h, price, wind = sim_MDP_exp(policy, wind, price)\n",
    "        costs.append(cost)\n",
    "        total_cost += cost\n",
    "    return total_cost / E,costs"
   ]
  },
  {
   "cell_type": "code",
   "execution_count": 18,
   "metadata": {},
   "outputs": [
    {
     "name": "stderr",
     "output_type": "stream",
     "text": [
      "Simulating MDP: 100%|██████████| 100/100 [00:00<00:00, 13533.51it/s]"
     ]
    },
    {
     "name": "stdout",
     "output_type": "stream",
     "text": [
      "Mean cost: 571.2163299839033\n",
      "Std cost: 381.4910271334313\n"
     ]
    },
    {
     "name": "stderr",
     "output_type": "stream",
     "text": [
      "\n"
     ]
    }
   ],
   "source": [
    "# policy: state -> decision\n",
    "def dummy_policy(t,h,e_on,wind,wind_previous,price,price_previous,data):\n",
    "    e_on = 0\n",
    "    e_p2h = 0\n",
    "    e_h2p = 0\n",
    "    p_grid = max(data['demand_schedule'][t]-wind,0)\n",
    "    return (e_on,e_p2h,e_h2p,p_grid)\n",
    "\n",
    "mean, costs = sim_MDP(100,dummy_policy,winds,prices)\n",
    "print(f\"Mean cost: {mean}\")\n",
    "print(f\"Std cost: {np.std(costs)}\")"
   ]
  }
 ],
 "metadata": {
  "kernelspec": {
   "display_name": "linprog",
   "language": "python",
   "name": "python3"
  },
  "language_info": {
   "codemirror_mode": {
    "name": "ipython",
    "version": 3
   },
   "file_extension": ".py",
   "mimetype": "text/x-python",
   "name": "python",
   "nbconvert_exporter": "python",
   "pygments_lexer": "ipython3",
   "version": "3.11.8"
  }
 },
 "nbformat": 4,
 "nbformat_minor": 2
}
