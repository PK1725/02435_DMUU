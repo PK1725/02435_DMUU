{
 "cells": [
  {
   "cell_type": "code",
   "execution_count": 1,
   "metadata": {},
   "outputs": [],
   "source": [
    "import sys\n",
    "sys.path.append(\"v2_Assignment_Codes\")  # Add the folder to the search path\n",
    "\n",
    "#load data\n",
    "from v2_data import get_fixed_data\n",
    "from PriceProcess import price_model\n",
    "from WindProcess import wind_model\n",
    "from utils import generate_time_series,generate_experiment_series\n",
    "\n",
    "import matplotlib.pyplot as plt\n",
    "import numpy as np\n",
    "from tqdm import tqdm\n",
    "from pyomo.environ import *\n",
    "from mdp import check_feasibility,sim_MDP_exp, sim_MDP\n",
    "\n",
    "%load_ext autoreload\n",
    "%autoreload 2\n",
    "plt.rcParams.update({'font.size': 13})"
   ]
  },
  {
   "cell_type": "code",
   "execution_count": 2,
   "metadata": {},
   "outputs": [],
   "source": [
    "data = get_fixed_data()\n",
    "T = data['num_timeslots']"
   ]
  },
  {
   "cell_type": "code",
   "execution_count": 3,
   "metadata": {},
   "outputs": [],
   "source": [
    "# ensure we always use the same time series for all tasks and experiments\n",
    "prices,winds = generate_experiment_series()"
   ]
  },
  {
   "cell_type": "markdown",
   "metadata": {},
   "source": [
    "# Task 2"
   ]
  },
  {
   "cell_type": "code",
   "execution_count": 4,
   "metadata": {},
   "outputs": [],
   "source": [
    "import random\n",
    "\n",
    "np.random.seed(42)\n",
    "random.seed(42)"
   ]
  },
  {
   "cell_type": "markdown",
   "metadata": {},
   "source": [
    "## Generate scenario tree"
   ]
  },
  {
   "cell_type": "code",
   "execution_count": 5,
   "metadata": {},
   "outputs": [],
   "source": [
    "from sklearn.cluster import KMeans\n",
    "\n",
    "class realization():\n",
    "    def __init__(self,t,local_scenario,wind,price,prev):\n",
    "        self.t = t\n",
    "        self.wind = wind\n",
    "        self.price = price\n",
    "        self.prev = prev\n",
    "        self.local_scenario = local_scenario\n",
    "\n",
    "\n",
    "def generate_scenarios(wind, price, wind_previous, price_previous, stages, k=4, n_samples=100):\n",
    "    scenarios = []\n",
    "    scenarios.append([realization(0, 0, wind, price, None)])\n",
    "    scenario_probs = [[1.0]]\n",
    "\n",
    "    for t in range(stages):\n",
    "        new_scenarios = []\n",
    "        new_probs = []\n",
    "        for i, realization_i in enumerate(scenarios[t]):\n",
    "            wind_samples = []\n",
    "            price_samples = []\n",
    "            for _ in range(n_samples):\n",
    "                if t == 0:\n",
    "                    wind_future = wind_model(realization_i.wind, wind_previous, data)\n",
    "                    price_future = price_model(realization_i.price, price_previous, wind_future, data)\n",
    "                else:\n",
    "                    wind_future = wind_model(realization_i.wind, realization_i.prev.wind, data)\n",
    "                    price_future = price_model(realization_i.price, realization_i.prev.price, wind_future, data)\n",
    "                wind_samples.append(wind_future)\n",
    "                price_samples.append(price_future)\n",
    "\n",
    "            if k < n_samples:\n",
    "                samples = np.column_stack((wind_samples, price_samples))\n",
    "                kmeans = KMeans(n_clusters=k, random_state=0).fit(samples)\n",
    "                centroids = kmeans.cluster_centers_\n",
    "                labels = kmeans.labels_\n",
    "\n",
    "                for j in range(k):\n",
    "                    centroid_wind, centroid_price = centroids[j]\n",
    "                    prob = np.mean(labels == j)\n",
    "                    new_scenarios.append(realization(t+1, j, centroid_wind, centroid_price, realization_i))\n",
    "                    new_probs.append(scenario_probs[t][i] * prob)\n",
    "            else:\n",
    "                for j in range(n_samples):\n",
    "                    new_scenarios.append(realization(t+1, j, wind_samples[j], price_samples[j], realization_i))\n",
    "                    new_probs.append(scenario_probs[t][i] / n_samples)\n",
    "\n",
    "        scenarios.append(new_scenarios)\n",
    "        scenario_probs.append(new_probs)\n",
    "\n",
    "    return scenarios, scenario_probs\n"
   ]
  },
  {
   "cell_type": "markdown",
   "metadata": {},
   "source": [
    "## Code to convert sceneratios to matrix to use in MILP program"
   ]
  },
  {
   "cell_type": "code",
   "execution_count": 6,
   "metadata": {},
   "outputs": [],
   "source": [
    "def scenarios_to_matrices(scenarios):\n",
    "    T = len(scenarios)\n",
    "    S = len(scenarios[-1])\n",
    "    \n",
    "    wind_matrix = np.zeros((T, S))\n",
    "    price_matrix = np.zeros((T, S))\n",
    "    a_set = [[]]*(T)\n",
    "    a_set[0] = a_set[0] + [[i for i in range(S)]]\n",
    "    for t in range(1,T):\n",
    "        for s in range(len(scenarios[t])):\n",
    "            span = int(len(scenarios[-1]) / len(scenarios[t]))\n",
    "            prev_scenario = scenarios[t][s].prev\n",
    "            a_set_indices = [_ for _ in range(s*span,(s+1)*span)]\n",
    "            wind_matrix[t-1,span*s:(s+1)*span] = prev_scenario.wind\n",
    "            price_matrix[t-1,span*s:(s+1)*span] = prev_scenario.price\n",
    "            a_set[t] = a_set[t] + [a_set_indices]\n",
    "\n",
    "    wind_matrix[-1] = [r.wind for r in scenarios[-1]]\n",
    "    price_matrix[-1] = [r.price for r in scenarios[-1]]\n",
    "\n",
    "    return wind_matrix, price_matrix,a_set\n"
   ]
  },
  {
   "cell_type": "markdown",
   "metadata": {},
   "source": [
    "## Linear Program with non-anticipativity constraints"
   ]
  },
  {
   "cell_type": "code",
   "execution_count": 7,
   "metadata": {},
   "outputs": [],
   "source": [
    "def solve_multi_stage_model(t_start,scenarios,a_set,scenario_probs,price,wind,h_0,e_on_0):\n",
    "    T = len(scenarios)\n",
    "    S = len(scenarios[-1])\n",
    "    \n",
    "    # Create a model\n",
    "    model = ConcreteModel()\n",
    "    # Declare indexed variable for the price\n",
    "    model.p_grid = Var(range(T),range(S), within=NonNegativeReals,name='p_grid')\n",
    "    model.e_h2p = Var(range(T),range(S), within=NonNegativeReals,bounds=(0,data['h2p_max_rate']),name='e_h2p')\n",
    "    model.e_p2h = Var(range(T),range(S), within=NonNegativeReals,bounds=(0,data['p2h_max_rate']),name='e_p2h')\n",
    "    model.e_on = Var(range(-1,T-1),range(S), within=Binary,name='e_on',initialize=0)\n",
    "\n",
    "    model.h = Var(range(T),range(S), within=NonNegativeReals,bounds=(0,data['hydrogen_capacity']),name='h')\n",
    "\n",
    "    vars = [model.p_grid,model.e_h2p,model.e_p2h,model.e_on,model.h]\n",
    "\n",
    "    model.non_anticipativity = ConstraintList()\n",
    "    for var in vars:\n",
    "        for t in range(T-1):\n",
    "            for a_subset in a_set[t]:\n",
    "                sprime = a_subset[0]\n",
    "                for s in a_subset:\n",
    "                    model.non_anticipativity.add(var[t, s] == var[t, sprime])\n",
    "\n",
    "    # Objective function\n",
    "    def objective_rule(model):\n",
    "        return sum(scenario_probs[s]*(price[t,s] * model.p_grid[t,s] + data['electrolyzer_cost']*model.e_on[t-1,s]) for s in range(S) for t in range(T))\n",
    "\n",
    "    model.profit = Objective(rule=objective_rule, sense=minimize)\n",
    "\n",
    "    model.DemandConstraint = Constraint(range(T),range(S), rule=lambda model, t,s: model.p_grid[t,s] + wind[t,s] + data['conversion_h2p']*model.e_h2p[t,s] - model.e_p2h[t,s] >= data['demand_schedule'][t_start+t])\n",
    "\n",
    "    # contraints\n",
    "    model.h_contraint = Constraint(range(T-1), range(S), rule=lambda model, t, s: model.h[t+1, s] == model.h[t, s] + data['conversion_p2h']*model.e_p2h[t, s] - model.e_h2p[t, s])\n",
    "\n",
    "    model.p2h_constraint = Constraint(range(T), range(S), rule=lambda model, t, s:  model.e_h2p[t, s] <= model.h[t, s])\n",
    "    model.p2h_constraint2 = Constraint(range(T),range(S),rule=lambda model,t,s: data['conversion_h2p']*model.e_h2p[t, s] <= data['h2p_max_rate'])\n",
    "    \n",
    "    model.conversion_contraint = Constraint(range(T), range(S), rule=lambda model, t, s:  data['conversion_p2h']*model.e_p2h[t, s] <= data['p2h_max_rate']*model.e_on[t-1, s])\n",
    "\n",
    "    model.tank_start = Constraint(range(S), rule=lambda model, s: model.h[0, s] == h_0)\n",
    "\n",
    "    model.electrolyser_start = Constraint(range(S), rule=lambda model, s: model.e_on[-1, s] == e_on_0)\n",
    "\n",
    "    # Create a solver\n",
    "    solver = SolverFactory('gurobi') \n",
    "\n",
    "    # Solve the model\n",
    "    results = solver.solve(model, tee=False)\n",
    "    return results,model"
   ]
  },
  {
   "cell_type": "markdown",
   "metadata": {},
   "source": [
    "## Define the multi-stage stochastic programming policy"
   ]
  },
  {
   "cell_type": "code",
   "execution_count": 8,
   "metadata": {},
   "outputs": [],
   "source": [
    "class MultiStagePolicy:\n",
    "    def __init__(self, data, L=4,k=3):\n",
    "        self.data = data\n",
    "        self.L = L\n",
    "        self.k = k\n",
    "\n",
    "    def __call__(self, t, h, e_on, wind, wind_previous, price, price_previous,data):\n",
    "        L = min(self.L, self.data['num_timeslots'] - t) - 1\n",
    "\n",
    "        scenarios, scenario_probs = generate_scenarios(wind, price, wind_previous, price_previous, L, k=self.k)\n",
    "        wind_matrix, price_matrix, a_set = scenarios_to_matrices(scenarios)\n",
    "        results, model = solve_multi_stage_model(t, scenarios, a_set, scenario_probs[-1], price_matrix, wind_matrix, h, e_on)\n",
    "\n",
    "        if not results.solver.termination_condition == TerminationCondition.optimal:\n",
    "            raise ValueError(f\"Optimal solution not found t={t}\")\n",
    "        \n",
    "        e_on = value(model.e_on[0, 0]) if t < self.data['num_timeslots'] - 1 else 0\n",
    "        e_p2h = value(model.e_p2h[0, 0])\n",
    "        e_h2p = value(model.e_h2p[0, 0])\n",
    "        p_grid = value(model.p_grid[0, 0])\n",
    "        return e_on, e_p2h, e_h2p, p_grid"
   ]
  },
  {
   "cell_type": "code",
   "execution_count": 9,
   "metadata": {},
   "outputs": [
    {
     "name": "stderr",
     "output_type": "stream",
     "text": [
      "Simulating MDP: 100%|██████████| 10/10 [00:18<00:00,  1.88s/it]\n"
     ]
    },
    {
     "data": {
      "text/plain": [
       "(447.05983344371873,\n",
       " [40.38463047549456,\n",
       "  192.45521355444066,\n",
       "  338.5858049880253,\n",
       "  495.4855396093075,\n",
       "  1003.7303000818753,\n",
       "  231.48562018926754,\n",
       "  599.3827889466544,\n",
       "  853.8901713072801,\n",
       "  558.2200093114479,\n",
       "  156.97825597339354])"
      ]
     },
     "execution_count": 9,
     "metadata": {},
     "output_type": "execute_result"
    }
   ],
   "source": [
    "multi_stage_policy = MultiStagePolicy(data)\n",
    "sim_MDP(10,multi_stage_policy,winds,prices)"
   ]
  }
 ],
 "metadata": {
  "kernelspec": {
   "display_name": "linprog",
   "language": "python",
   "name": "python3"
  },
  "language_info": {
   "codemirror_mode": {
    "name": "ipython",
    "version": 3
   },
   "file_extension": ".py",
   "mimetype": "text/x-python",
   "name": "python",
   "nbconvert_exporter": "python",
   "pygments_lexer": "ipython3",
   "version": "3.11.9"
  }
 },
 "nbformat": 4,
 "nbformat_minor": 2
}
