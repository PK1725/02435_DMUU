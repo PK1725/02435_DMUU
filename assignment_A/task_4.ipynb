{
 "cells": [
  {
   "cell_type": "code",
   "execution_count": 1,
   "metadata": {},
   "outputs": [],
   "source": [
    "import sys\n",
    "sys.path.append(\"v2_Assignment_Codes\")  # Add the folder to the search path\n",
    "\n",
    "#load data\n",
    "from v2_data import get_fixed_data\n",
    "from PriceProcess import price_model\n",
    "from WindProcess import wind_model\n",
    "from utils import generate_time_series,generate_experiment_series\n",
    "\n",
    "import matplotlib.pyplot as plt\n",
    "import numpy as np\n",
    "from tqdm import tqdm\n",
    "from pyomo.environ import *\n",
    "from mdp import check_feasibility,sim_MDP_exp, sim_MDP, generate_scenarios\n",
    "\n",
    "%load_ext autoreload\n",
    "%autoreload 2\n"
   ]
  },
  {
   "cell_type": "code",
   "execution_count": 2,
   "metadata": {},
   "outputs": [],
   "source": [
    "data = get_fixed_data()\n",
    "T = data['num_timeslots']"
   ]
  },
  {
   "cell_type": "code",
   "execution_count": 3,
   "metadata": {},
   "outputs": [],
   "source": [
    "# ensure we always use the same time series for all tasks and experiments\n",
    "prices,winds = generate_experiment_series()"
   ]
  },
  {
   "cell_type": "markdown",
   "metadata": {},
   "source": [
    "# Task 4"
   ]
  },
  {
   "cell_type": "code",
   "execution_count": 4,
   "metadata": {},
   "outputs": [],
   "source": [
    "import random\n",
    "\n",
    "np.random.seed(42)\n",
    "random.seed(42)\n",
    "\n",
    "E = 20"
   ]
  },
  {
   "cell_type": "markdown",
   "metadata": {},
   "source": [
    "## Evaluate the policies "
   ]
  },
  {
   "cell_type": "code",
   "execution_count": 5,
   "metadata": {},
   "outputs": [],
   "source": [
    "from mdp import dummy_policy, sim_optimal_in_hindsight, MultiStagePolicy, ADPPolicy, sample_representative_state_pairs, ValueFunction,backward_value_approx\n"
   ]
  },
  {
   "cell_type": "markdown",
   "metadata": {},
   "source": [
    "### Dummy Policy"
   ]
  },
  {
   "cell_type": "code",
   "execution_count": 6,
   "metadata": {},
   "outputs": [
    {
     "name": "stderr",
     "output_type": "stream",
     "text": [
      "Simulating MDP: 100%|██████████| 20/20 [00:00<00:00, 11963.22it/s]\n"
     ]
    }
   ],
   "source": [
    "mean_dummy, costs_dummy = sim_MDP(E,dummy_policy,winds,prices)"
   ]
  },
  {
   "cell_type": "markdown",
   "metadata": {},
   "source": [
    "### Optimal-in-hindsight solution"
   ]
  },
  {
   "cell_type": "code",
   "execution_count": 7,
   "metadata": {},
   "outputs": [
    {
     "name": "stderr",
     "output_type": "stream",
     "text": [
      "Simulating OIH: 100%|██████████| 20/20 [00:01<00:00, 14.35it/s]\n"
     ]
    }
   ],
   "source": [
    "mean_oih, costs_oih = sim_optimal_in_hindsight(E,winds,prices)"
   ]
  },
  {
   "cell_type": "markdown",
   "metadata": {},
   "source": [
    "### Stochastic programming policy for 4 configurations"
   ]
  },
  {
   "cell_type": "code",
   "execution_count": 8,
   "metadata": {},
   "outputs": [
    {
     "name": "stderr",
     "output_type": "stream",
     "text": [
      "Simulating MDP: 100%|██████████| 20/20 [05:42<00:00, 17.11s/it]\n",
      "Simulating MDP: 100%|██████████| 20/20 [03:40<00:00, 11.03s/it]\n",
      "Simulating MDP: 100%|██████████| 20/20 [01:54<00:00,  5.70s/it]\n",
      "Simulating MDP: 100%|██████████| 20/20 [02:51<00:00,  8.56s/it]\n"
     ]
    }
   ],
   "source": [
    "results = np.zeros((4,E))\n",
    "\n",
    "multi_state_policy = MultiStagePolicy(L=2,k=99)\n",
    "_, results[0,:] = sim_MDP(E,multi_state_policy,winds,prices)\n",
    "\n",
    "multi_state_policy = MultiStagePolicy(L=3,k=8)\n",
    "_, results[1,:] = sim_MDP(E,multi_state_policy,winds,prices)\n",
    "\n",
    "multi_state_policy = MultiStagePolicy(L=4,k=3)\n",
    "_, results[2,:] = sim_MDP(E,multi_state_policy,winds,prices)\n",
    "\n",
    "multi_state_policy = MultiStagePolicy(L=6,k=2)\n",
    "_, results[3,:] = sim_MDP(E,multi_state_policy,winds,prices)\n"
   ]
  },
  {
   "cell_type": "markdown",
   "metadata": {},
   "source": [
    "### Expected value policy"
   ]
  },
  {
   "cell_type": "code",
   "execution_count": 35,
   "metadata": {},
   "outputs": [
    {
     "name": "stderr",
     "output_type": "stream",
     "text": [
      "Simulating MDP: 100%|██████████| 20/20 [01:08<00:00,  3.40s/it]\n"
     ]
    }
   ],
   "source": [
    "expected_value_policy = MultiStagePolicy(L=24,k=1)\n",
    "mean_ev, costs_ev = sim_MDP(E,expected_value_policy,winds,prices)"
   ]
  },
  {
   "cell_type": "markdown",
   "metadata": {},
   "source": [
    "### ADP Policy"
   ]
  },
  {
   "cell_type": "code",
   "execution_count": 6,
   "metadata": {},
   "outputs": [
    {
     "name": "stdout",
     "output_type": "stream",
     "text": [
      "t=23\n",
      "2151.8784010818904\n",
      "194.31788944731662\n",
      "t=22\n",
      "2324.3214762972657\n",
      "124.74630651679152\n",
      "t=21\n",
      "2322.9079071231013\n",
      "179.10649965029924\n",
      "t=20\n",
      "2664.8215211073466\n",
      "150.7042088981632\n",
      "t=19\n",
      "2688.7140615931426\n",
      "74.82048910084897\n",
      "t=18\n",
      "3238.3390872275027\n",
      "106.2055500548539\n",
      "t=17\n",
      "3324.8635358950055\n",
      "63.340512868255125\n",
      "t=16\n",
      "3004.3829210669605\n",
      "57.52540842007317\n",
      "t=15\n",
      "2958.6735468810984\n",
      "169.98060510773558\n",
      "t=14\n",
      "2841.2003498921795\n",
      "131.86324022179733\n",
      "t=13\n",
      "2456.5313381200253\n",
      "235.08839750051447\n",
      "t=12\n",
      "2754.4507851954386\n",
      "490.9895193770303\n",
      "t=11\n",
      "3318.892987914893\n",
      "335.638707006378\n",
      "t=10\n",
      "5062.639522873068\n",
      "735.8436340304198\n",
      "t=9\n",
      "6326.016550524214\n",
      "849.6316286479149\n",
      "t=8\n",
      "8282.870677097533\n",
      "956.8586675331879\n",
      "t=7\n",
      "7568.938677510023\n",
      "953.5125848174274\n",
      "t=6\n",
      "7778.0968310655535\n",
      "723.6474441699625\n",
      "t=5\n",
      "8282.891082825632\n",
      "594.2137611081929\n",
      "t=4\n",
      "9471.511448710797\n",
      "1776.314340599798\n",
      "t=3\n",
      "5883.073580331102\n",
      "955.2469370536796\n",
      "t=2\n",
      "3961.3486176418137\n",
      "263.44935042032245\n",
      "t=1\n",
      "2399.9951283330774\n",
      "21.030127573598623\n",
      "t=0\n",
      "1152.890660607064\n",
      "100.36510190175899\n"
     ]
    }
   ],
   "source": [
    "# fit value function\n",
    "state_pairs = sample_representative_state_pairs(100)\n",
    "V = backward_value_approx(ValueFunction(data['num_timeslots'],7),state_pairs,40,data)"
   ]
  },
  {
   "cell_type": "code",
   "execution_count": 7,
   "metadata": {},
   "outputs": [
    {
     "name": "stderr",
     "output_type": "stream",
     "text": [
      "Simulating MDP: 100%|██████████| 20/20 [00:25<00:00,  1.25s/it]\n"
     ]
    }
   ],
   "source": [
    "# evaluate policy\n",
    "adp_policy = ADPPolicy(V, data)\n",
    "mean_adp, costs_adp = sim_MDP(E,adp_policy,winds,prices)"
   ]
  },
  {
   "cell_type": "code",
   "execution_count": 36,
   "metadata": {},
   "outputs": [
    {
     "name": "stdout",
     "output_type": "stream",
     "text": [
      "Results saved to 'results/results_data.pkl'\n"
     ]
    }
   ],
   "source": [
    "import os\n",
    "import pickle\n",
    "\n",
    "# Ensure the \"results\" folder exists\n",
    "os.makedirs(\"results\", exist_ok=True)\n",
    "\n",
    "# Load existing results if the file exists\n",
    "results_file = \"results/results_data.pkl\"\n",
    "if os.path.exists(results_file):\n",
    "    with open(results_file, \"rb\") as file:\n",
    "        results_data = pickle.load(file)\n",
    "else:\n",
    "    results_data = {}\n",
    "\n",
    "# Prepare the data to save (override or add new values)\n",
    "optional_values = {\n",
    "    \"mean_dummy\": mean_dummy if 'mean_dummy' in locals() else None,\n",
    "    \"costs_dummy\": costs_dummy if 'costs_dummy' in locals() else None,\n",
    "    \"mean_oih\": mean_oih if 'mean_oih' in locals() else None,\n",
    "    \"costs_oih\": costs_oih if 'costs_oih' in locals() else None,\n",
    "    \"mean_ev\": mean_ev if 'mean_ev' in locals() else None,\n",
    "    \"costs_ev\": costs_ev if 'costs_ev' in locals() else None,\n",
    "    \"mean_adp\": mean_adp if 'mean_adp' in locals() else None,\n",
    "    \"costs_adp\": costs_adp if 'costs_adp' in locals() else None,\n",
    "    \"results\": results if 'results' in locals() else None,\n",
    "    \"data\": data if 'data' in locals() else None,\n",
    "    \"prices\": prices if 'prices' in locals() else None,\n",
    "    \"winds\": winds if 'winds' in locals() else None,\n",
    "    \"state_pairs\": state_pairs if 'state_pairs' in locals() else None\n",
    "}\n",
    "\n",
    "# Filter out None values\n",
    "filtered_values = {key: value for key, value in optional_values.items() if value is not None}\n",
    "\n",
    "# Update the results data\n",
    "results_data.update(filtered_values)\n",
    "\n",
    "# Save the updated data to the file\n",
    "with open(results_file, \"wb\") as file:\n",
    "    pickle.dump(results_data, file)\n",
    "\n",
    "print(f\"Results saved to '{results_file}'\")"
   ]
  },
  {
   "cell_type": "code",
   "execution_count": 39,
   "metadata": {},
   "outputs": [
    {
     "data": {
      "image/png": "[encoded data removed]",
      "text/plain": [
       "<Figure size 2000x1000 with 8 Axes>"
      ]
     },
     "metadata": {},
     "output_type": "display_data"
    }
   ],
   "source": [
    "import pickle\n",
    "\n",
    "# Load the results data from the file\n",
    "with open(\"results/results_data.pkl\", \"rb\") as file:\n",
    "    results_data = pickle.load(file)\n",
    "\n",
    "# Extract the necessary data\n",
    "costs_dummy = results_data[\"costs_dummy\"]\n",
    "costs_oih = results_data[\"costs_oih\"]\n",
    "costs_ev = results_data[\"costs_ev\"]\n",
    "costs_adp = results_data[\"costs_adp\"]\n",
    "results = results_data[\"results\"]\n",
    "\n",
    "plt.rcParams.update({'font.size': 15})\n",
    "fig, axes = plt.subplots(2, 4, figsize=(20, 10))\n",
    "\n",
    "# Define a common range for the x-axis\n",
    "common_xlim = (0, max(max(costs_dummy), max(costs_oih), max(costs_ev), max(costs_adp), results.max()))\n",
    "\n",
    "# Define consistent colors for histograms and lines\n",
    "hist_color = 'blue'\n",
    "mean_color = 'green'\n",
    "median_color = 'orange'\n",
    "\n",
    "# First row: Dummy, OIH, EV, and ADP policies\n",
    "for i, (costs, title) in enumerate(zip(\n",
    "    [costs_oih, costs_dummy, costs_ev, costs_adp],\n",
    "    [\"OIH Solution\", \"Dummy Policy\", \"EV Policy\", \"ADP Policy\"]\n",
    ")):\n",
    "    axes[0, i].hist(costs, bins=20, color=hist_color, alpha=0.7)\n",
    "    axes[0, i].axvline(np.mean(costs), color=mean_color, linewidth=2, label='Mean')\n",
    "    axes[0, i].axvline(np.median(costs), color=median_color, linewidth=2, label='Median')\n",
    "    axes[0, i].set_title(title)\n",
    "    axes[0, i].set_xlabel(\"Cost\")\n",
    "    axes[0, i].set_ylabel(\"Frequency\")\n",
    "    axes[0, i].set_xlim(common_xlim)\n",
    "\n",
    "config = [\"L=2,k=99\", \"L=3,k=8\", \"L=4,k=3\", \"L=6,k=2\"]\n",
    "\n",
    "# Second row: Multi-state policies for 4 configurations\n",
    "for i in range(4):\n",
    "    axes[1, i].hist(results[i, :], bins=20, color=hist_color, alpha=0.7)\n",
    "    axes[1, i].axvline(np.mean(results[i, :]), color=mean_color, linewidth=2, label='Mean')\n",
    "    axes[1, i].axvline(np.median(results[i, :]), color=median_color, linewidth=2, label='Median')\n",
    "    axes[1, i].set_title(f\"Multi-Stage Policy, {config[i]}\")\n",
    "    axes[1, i].set_xlabel(\"Cost\")\n",
    "    axes[1, i].set_ylabel(\"Frequency\")\n",
    "    axes[1, i].set_xlim(common_xlim)\n",
    "\n",
    "# Add a common legend\n",
    "handles = [\n",
    "    plt.Line2D([0], [0], color=mean_color, linewidth=2, label='Mean'),\n",
    "    plt.Line2D([0], [0], color=median_color, linewidth=2, label='Median')\n",
    "]\n",
    "fig.legend(handles=handles, loc='upper center', ncol=2, fontsize=18)\n",
    "plt.tight_layout(rect=[0, 0.00, 1, 0.95])  # Adjust layout to make space for the legend\n",
    "plt.savefig(\"figures/policy_comparison.pdf\", dpi=300, bbox_inches='tight')\n",
    "plt.show()"
   ]
  },
  {
   "cell_type": "code",
   "execution_count": 38,
   "metadata": {},
   "outputs": [
    {
     "name": "stdout",
     "output_type": "stream",
     "text": [
      "Dummy Policy: Mean = 618.46, Std = 331.41\n",
      "OIH Policy: Mean = 421.44, Std = 342.30\n",
      "EV Policy: Mean = 547.33, Std = 368.41\n",
      "ADP Policy: Mean = 517.20, Std = 374.24\n",
      "Multi-State Policy (L=2, k=99): Mean = 618.46, Std = 331.41\n",
      "Multi-State Policy (L=3, k=8): Mean = 599.51, Std = 336.55\n",
      "Multi-State Policy (L=4, k=3): Mean = 569.79, Std = 346.07\n",
      "Multi-State Policy (L=6, k=2): Mean = 542.23, Std = 360.41\n",
      "------ ordered by mean cost -------\n",
      "OIH Policy: Mean = 421.44, Std = 342.30\n",
      "ADP Policy: Mean = 517.20, Std = 374.24\n",
      "Multi-State Policy (L=6, k=2): Mean = 542.23, Std = 360.41\n",
      "EV Policy: Mean = 547.33, Std = 368.41\n",
      "Multi-State Policy (L=4, k=3): Mean = 569.79, Std = 346.07\n",
      "Multi-State Policy (L=3, k=8): Mean = 599.51, Std = 336.55\n",
      "Multi-State Policy (L=2, k=99): Mean = 618.46, Std = 331.41\n",
      "Dummy Policy: Mean = 618.46, Std = 331.41\n"
     ]
    }
   ],
   "source": [
    "methods = {\n",
    "    \"Dummy Policy\": costs_dummy,\n",
    "    \"OIH Policy\": costs_oih,\n",
    "    \"EV Policy\": costs_ev,\n",
    "    \"ADP Policy\": costs_adp,\n",
    "    \"Multi-State Policy (L=2, k=99)\": results[0, :],\n",
    "    \"Multi-State Policy (L=3, k=8)\": results[1, :],\n",
    "    \"Multi-State Policy (L=4, k=3)\": results[2, :],\n",
    "    \"Multi-State Policy (L=6, k=2)\": results[3, :]\n",
    "}\n",
    "\n",
    "for method, costs in methods.items():\n",
    "    mean = np.mean(costs)\n",
    "    std = np.std(costs)\n",
    "    print(f\"{method}: Mean = {mean:.2f}, Std = {std:.2f}\")\n",
    "    \n",
    "\n",
    "print(\"------ ordered by mean cost -------\")\n",
    "# Sort the methods by their mean cost\n",
    "sorted_methods = sorted(methods.items(), key=lambda x: np.mean(x[1]))\n",
    "\n",
    "# Print the sorted methods with their mean and standard deviation\n",
    "for method, costs in sorted_methods:\n",
    "    mean = np.mean(costs)\n",
    "    std = np.std(costs)\n",
    "    print(f\"{method}: Mean = {mean:.2f}, Std = {std:.2f}\")"
   ]
  }
 ],
 "metadata": {
  "kernelspec": {
   "display_name": "linprog",
   "language": "python",
   "name": "python3"
  },
  "language_info": {
   "codemirror_mode": {
    "name": "ipython",
    "version": 3
   },
   "file_extension": ".py",
   "mimetype": "text/x-python",
   "name": "python",
   "nbconvert_exporter": "python",
   "pygments_lexer": "ipython3",
   "version": "3.12.1"
  }
 },
 "nbformat": 4,
 "nbformat_minor": 2
}
