{
 "cells": [
  {
   "cell_type": "code",
   "execution_count": null,
   "metadata": {},
   "outputs": [],
   "source": [
    "import sys\n",
    "sys.path.append(\"v2_Assignment_Codes\")  # Add the folder to the search path\n",
    "\n",
    "#load data\n",
    "from v2_data import get_fixed_data\n",
    "from PriceProcess import price_model\n",
    "from WindProcess import wind_model\n",
    "from utils import generate_time_series,generate_experiment_series\n",
    "\n",
    "import matplotlib.pyplot as plt\n",
    "import numpy as np\n",
    "from tqdm import tqdm\n",
    "from pyomo.environ import *\n",
    "from mdp import check_feasibility,sim_MDP_exp, sim_MDP, generate_scenarios\n",
    "\n",
    "%load_ext autoreload\n",
    "%autoreload 2\n"
   ]
  },
  {
   "cell_type": "code",
   "execution_count": 2,
   "metadata": {},
   "outputs": [],
   "source": [
    "data = get_fixed_data()\n",
    "T = data['num_timeslots']"
   ]
  },
  {
   "cell_type": "code",
   "execution_count": 3,
   "metadata": {},
   "outputs": [],
   "source": [
    "# ensure we always use the same time series for all tasks and experiments\n",
    "prices,winds = generate_experiment_series()"
   ]
  },
  {
   "cell_type": "markdown",
   "metadata": {},
   "source": [
    "# Task 4"
   ]
  },
  {
   "cell_type": "code",
   "execution_count": 4,
   "metadata": {},
   "outputs": [],
   "source": [
    "import random\n",
    "\n",
    "np.random.seed(42)\n",
    "random.seed(42)\n",
    "\n",
    "E = 20"
   ]
  },
  {
   "cell_type": "markdown",
   "metadata": {},
   "source": [
    "## Evaluate the policies "
   ]
  },
  {
   "cell_type": "code",
   "execution_count": 5,
   "metadata": {},
   "outputs": [],
   "source": [
    "from mdp import dummy_policy, sim_optimal_in_hindsight, MultiStagePolicy, ADPPolicy, sample_representative_state_pairs, ValueFunction,backward_value_approx\n"
   ]
  },
  {
   "cell_type": "markdown",
   "metadata": {},
   "source": [
    "### Dummy Policy"
   ]
  },
  {
   "cell_type": "code",
   "execution_count": 6,
   "metadata": {},
   "outputs": [
    {
     "name": "stderr",
     "output_type": "stream",
     "text": [
      "Simulating MDP: 100%|██████████| 20/20 [00:00<00:00, 11963.22it/s]\n"
     ]
    }
   ],
   "source": [
    "mean_dummy, costs_dummy = sim_MDP(E,dummy_policy,winds,prices)"
   ]
  },
  {
   "cell_type": "markdown",
   "metadata": {},
   "source": [
    "### Optimal-in-hindsight solution"
   ]
  },
  {
   "cell_type": "code",
   "execution_count": 7,
   "metadata": {},
   "outputs": [
    {
     "name": "stderr",
     "output_type": "stream",
     "text": [
      "Simulating OIH: 100%|██████████| 20/20 [00:01<00:00, 14.35it/s]\n"
     ]
    }
   ],
   "source": [
    "mean_oih, costs_oih = sim_optimal_in_hindsight(E,winds,prices)"
   ]
  },
  {
   "cell_type": "markdown",
   "metadata": {},
   "source": [
    "### Stochastic programming policy for 4 configurations"
   ]
  },
  {
   "cell_type": "code",
   "execution_count": 8,
   "metadata": {},
   "outputs": [
    {
     "name": "stderr",
     "output_type": "stream",
     "text": [
      "Simulating MDP: 100%|██████████| 20/20 [05:42<00:00, 17.11s/it]\n",
      "Simulating MDP: 100%|██████████| 20/20 [03:40<00:00, 11.03s/it]\n",
      "Simulating MDP: 100%|██████████| 20/20 [01:54<00:00,  5.70s/it]\n",
      "Simulating MDP: 100%|██████████| 20/20 [02:51<00:00,  8.56s/it]\n"
     ]
    }
   ],
   "source": [
    "results = np.zeros((4,E))\n",
    "\n",
    "multi_state_policy = MultiStagePolicy(L=2,k=99)\n",
    "_, results[0,:] = sim_MDP(E,multi_state_policy,winds,prices)\n",
    "\n",
    "multi_state_policy = MultiStagePolicy(L=3,k=8)\n",
    "_, results[1,:] = sim_MDP(E,multi_state_policy,winds,prices)\n",
    "\n",
    "multi_state_policy = MultiStagePolicy(L=4,k=3)\n",
    "_, results[2,:] = sim_MDP(E,multi_state_policy,winds,prices)\n",
    "\n",
    "multi_state_policy = MultiStagePolicy(L=6,k=2)\n",
    "_, results[3,:] = sim_MDP(E,multi_state_policy,winds,prices)\n"
   ]
  },
  {
   "cell_type": "markdown",
   "metadata": {},
   "source": [
    "### Expected value policy"
   ]
  },
  {
   "cell_type": "code",
   "execution_count": 9,
   "metadata": {},
   "outputs": [
    {
     "name": "stderr",
     "output_type": "stream",
     "text": [
      "Simulating MDP: 100%|██████████| 20/20 [00:45<00:00,  2.29s/it]\n"
     ]
    }
   ],
   "source": [
    "expected_value_policy = MultiStagePolicy(L=10,k=1)\n",
    "mean_ev, costs_ev = sim_MDP(E,expected_value_policy,winds,prices)"
   ]
  },
  {
   "cell_type": "markdown",
   "metadata": {},
   "source": [
    "### ADP Policy"
   ]
  },
  {
   "cell_type": "code",
   "execution_count": 10,
   "metadata": {},
   "outputs": [
    {
     "name": "stdout",
     "output_type": "stream",
     "text": [
      "t=23\n",
      "5266.4347619495065\n",
      "243.67883615777993\n",
      "t=22\n",
      "5080.415913736451\n",
      "1.9164840792217648\n",
      "t=21\n",
      "4914.796820267952\n",
      "37.75445653775972\n",
      "t=20\n",
      "4754.744785252943\n",
      "60.13664653337721\n",
      "t=19\n",
      "4391.199145181602\n",
      "91.25228360506804\n",
      "t=18\n",
      "4275.063844442626\n",
      "63.68972431593017\n",
      "t=17\n",
      "4020.0466676071524\n",
      "28.96820033934629\n",
      "t=16\n",
      "4397.608923646806\n",
      "60.72236392336754\n",
      "t=15\n",
      "4238.795253393015\n",
      "46.235308706568006\n",
      "t=14\n",
      "4300.926533909131\n",
      "182.74742914420767\n",
      "t=13\n",
      "4477.6173693265555\n",
      "176.5043705835824\n",
      "t=12\n",
      "4930.50337684575\n",
      "173.48388621773367\n",
      "t=11\n",
      "4797.729607614407\n",
      "230.47343714906054\n",
      "t=10\n",
      "5673.99375940437\n",
      "399.38451817570837\n",
      "t=9\n",
      "7478.627631348099\n",
      "445.7010475177591\n",
      "t=8\n",
      "8202.722997481607\n",
      "381.0353077342853\n",
      "t=7\n",
      "11727.01900495629\n",
      "485.0804072458196\n",
      "t=6\n",
      "15865.698873071897\n",
      "343.36790473143793\n",
      "t=5\n",
      "20947.42527265833\n",
      "422.65004196128024\n",
      "t=4\n",
      "31545.89471337627\n",
      "504.73086262464\n",
      "t=3\n",
      "30661.855499753743\n",
      "342.47964008282287\n",
      "t=2\n",
      "43774.786045735134\n",
      "229.46061570186416\n",
      "t=1\n",
      "52269.14806523176\n",
      "87.14357326589113\n",
      "t=0\n",
      "51288.689782078334\n",
      "1.8191511127631038e-26\n"
     ]
    }
   ],
   "source": [
    "# fit value function\n",
    "state_pairs = sample_representative_state_pairs(100)\n",
    "V = backward_value_approx(ValueFunction(data['num_timeslots'],7),state_pairs,40,data)"
   ]
  },
  {
   "cell_type": "code",
   "execution_count": 11,
   "metadata": {},
   "outputs": [
    {
     "name": "stderr",
     "output_type": "stream",
     "text": [
      "Simulating MDP: 100%|██████████| 20/20 [00:29<00:00,  1.49s/it]\n"
     ]
    }
   ],
   "source": [
    "# evaluate policy\n",
    "adp_policy = ADPPolicy(V, data)\n",
    "mean_adp, costs_adp = sim_MDP(E,adp_policy,winds,prices)"
   ]
  },
  {
   "cell_type": "code",
   "execution_count": 12,
   "metadata": {},
   "outputs": [
    {
     "name": "stdout",
     "output_type": "stream",
     "text": [
      "Mean Dummy Policy: 618.4602578980882\n",
      "Mean Optimal-in-Hindsight Policy: 421.44391346417825\n",
      "Mean Expected Value Policy: 551.8414796364274\n",
      "Mean ADP Policy: 521.6075956064336\n"
     ]
    }
   ],
   "source": [
    "print(\"Mean Dummy Policy:\", mean_dummy)\n",
    "print(\"Mean Optimal-in-Hindsight Policy:\", mean_oih)\n",
    "print(\"Mean Expected Value Policy:\", mean_ev)\n",
    "print(\"Mean ADP Policy:\", mean_adp)"
   ]
  },
  {
   "cell_type": "code",
   "execution_count": 16,
   "metadata": {},
   "outputs": [
    {
     "name": "stdout",
     "output_type": "stream",
     "text": [
      "Results saved to 'results/results_data.pkl'\n"
     ]
    }
   ],
   "source": [
    "import os\n",
    "import pickle\n",
    "\n",
    "# Ensure the \"results\" folder exists\n",
    "os.makedirs(\"results\", exist_ok=True)\n",
    "\n",
    "# Prepare the data to save\n",
    "results_data = {\n",
    "    \"mean_dummy\": mean_dummy,\n",
    "    \"costs_dummy\": costs_dummy,\n",
    "    \"mean_oih\": mean_oih,\n",
    "    \"costs_oih\": costs_oih,\n",
    "    \"mean_ev\": mean_ev,\n",
    "    \"costs_ev\": costs_ev,\n",
    "    \"mean_adp\": mean_adp,\n",
    "    \"costs_adp\": costs_adp,\n",
    "    \"results\": results,\n",
    "    \"data\": data,\n",
    "    \"prices\": prices,\n",
    "    \"winds\": winds,\n",
    "    \"state_pairs\": state_pairs\n",
    "}\n",
    "\n",
    "# Save the data to a file\n",
    "with open(\"results/results_data.pkl\", \"wb\") as file:\n",
    "    pickle.dump(results_data, file)\n",
    "\n",
    "print(\"Results saved to 'results/results_data.pkl'\")"
   ]
  },
  {
   "cell_type": "code",
   "execution_count": null,
   "metadata": {},
   "outputs": [],
   "source": []
  },
  {
   "cell_type": "code",
   "execution_count": 17,
   "metadata": {},
   "outputs": [
    {
     "data": {
      "image/png": "[encoded data removed]",
      "text/plain": [
       "<Figure size 2000x1000 with 8 Axes>"
      ]
     },
     "metadata": {},
     "output_type": "display_data"
    }
   ],
   "source": [
    "import pickle\n",
    "\n",
    "# Load the results data from the file\n",
    "with open(\"results/results_data.pkl\", \"rb\") as file:\n",
    "    results_data = pickle.load(file)\n",
    "\n",
    "# Extract the necessary data\n",
    "costs_dummy = results_data[\"costs_dummy\"]\n",
    "costs_oih = results_data[\"costs_oih\"]\n",
    "costs_ev = results_data[\"costs_ev\"]\n",
    "costs_adp = results_data[\"costs_adp\"]\n",
    "results = results_data[\"results\"]\n",
    "\n",
    "plt.rcParams.update({'font.size': 15})\n",
    "fig, axes = plt.subplots(2, 4, figsize=(20, 10))\n",
    "\n",
    "# Define a common range for the x-axis\n",
    "common_xlim = (0, max(max(costs_dummy), max(costs_oih), max(costs_ev), max(costs_adp), results.max()))\n",
    "\n",
    "# Define consistent colors for histograms and lines\n",
    "hist_color = 'blue'\n",
    "mean_color = 'green'\n",
    "median_color = 'orange'\n",
    "\n",
    "# First row: Dummy, OIH, EV, and ADP policies\n",
    "for i, (costs, title) in enumerate(zip(\n",
    "    [costs_dummy, costs_oih, costs_ev, costs_adp],\n",
    "    [\"Dummy Policy\", \"OIH Policy\", \"EV Policy\", \"ADP Policy\"]\n",
    ")):\n",
    "    axes[0, i].hist(costs, bins=20, color=hist_color, alpha=0.7)\n",
    "    axes[0, i].axvline(np.mean(costs), color=mean_color, linewidth=2, label='Mean')\n",
    "    axes[0, i].axvline(np.median(costs), color=median_color, linewidth=2, label='Median')\n",
    "    axes[0, i].set_title(title)\n",
    "    axes[0, i].set_xlabel(\"Cost\")\n",
    "    axes[0, i].set_ylabel(\"Frequency\")\n",
    "    axes[0, i].set_xlim(common_xlim)\n",
    "\n",
    "config = [\"L=2,k=99\", \"L=3,k=8\", \"L=4,k=3\", \"L=6,k=2\"]\n",
    "\n",
    "# Second row: Multi-state policies for 4 configurations\n",
    "for i in range(4):\n",
    "    axes[1, i].hist(results[i, :], bins=20, color=hist_color, alpha=0.7)\n",
    "    axes[1, i].axvline(np.mean(results[i, :]), color=mean_color, linewidth=2, label='Mean')\n",
    "    axes[1, i].axvline(np.median(results[i, :]), color=median_color, linewidth=2, label='Median')\n",
    "    axes[1, i].set_title(f\"Multi-State Policy, {config[i]}\")\n",
    "    axes[1, i].set_xlabel(\"Cost\")\n",
    "    axes[1, i].set_ylabel(\"Frequency\")\n",
    "    axes[1, i].set_xlim(common_xlim)\n",
    "\n",
    "# Add a common legend\n",
    "handles = [\n",
    "    plt.Line2D([0], [0], color=mean_color, linewidth=2, label='Mean'),\n",
    "    plt.Line2D([0], [0], color=median_color, linewidth=2, label='Median')\n",
    "]\n",
    "fig.legend(handles=handles, loc='upper center', ncol=2, fontsize=18)\n",
    "plt.tight_layout(rect=[0, 0.00, 1, 0.95])  # Adjust layout to make space for the legend\n",
    "plt.savefig(\"figures/policy_comparison.pdf\", dpi=300, bbox_inches='tight')\n",
    "plt.show()"
   ]
  },
  {
   "cell_type": "code",
   "execution_count": 24,
   "metadata": {},
   "outputs": [
    {
     "name": "stdout",
     "output_type": "stream",
     "text": [
      "Dummy Policy: Mean = 618.46, Std = 331.41\n",
      "OIH Policy: Mean = 421.44, Std = 342.30\n",
      "EV Policy: Mean = 551.84, Std = 365.79\n",
      "ADP Policy: Mean = 521.61, Std = 367.42\n",
      "Multi-State Policy (L=2, k=99): Mean = 618.46, Std = 331.41\n",
      "Multi-State Policy (L=3, k=8): Mean = 599.51, Std = 336.55\n",
      "Multi-State Policy (L=4, k=3): Mean = 569.79, Std = 346.07\n",
      "Multi-State Policy (L=6, k=2): Mean = 542.23, Std = 360.41\n",
      "------ ordered by mean cost -------\n",
      "OIH Policy: Mean = 421.44, Std = 342.30\n",
      "ADP Policy: Mean = 521.61, Std = 367.42\n",
      "Multi-State Policy (L=6, k=2): Mean = 542.23, Std = 360.41\n",
      "EV Policy: Mean = 551.84, Std = 365.79\n",
      "Multi-State Policy (L=4, k=3): Mean = 569.79, Std = 346.07\n",
      "Multi-State Policy (L=3, k=8): Mean = 599.51, Std = 336.55\n",
      "Multi-State Policy (L=2, k=99): Mean = 618.46, Std = 331.41\n",
      "Dummy Policy: Mean = 618.46, Std = 331.41\n"
     ]
    }
   ],
   "source": [
    "methods = {\n",
    "    \"Dummy Policy\": costs_dummy,\n",
    "    \"OIH Policy\": costs_oih,\n",
    "    \"EV Policy\": costs_ev,\n",
    "    \"ADP Policy\": costs_adp,\n",
    "    \"Multi-State Policy (L=2, k=99)\": results[0, :],\n",
    "    \"Multi-State Policy (L=3, k=8)\": results[1, :],\n",
    "    \"Multi-State Policy (L=4, k=3)\": results[2, :],\n",
    "    \"Multi-State Policy (L=6, k=2)\": results[3, :]\n",
    "}\n",
    "\n",
    "for method, costs in methods.items():\n",
    "    mean = np.mean(costs)\n",
    "    std = np.std(costs)\n",
    "    print(f\"{method}: Mean = {mean:.2f}, Std = {std:.2f}\")\n",
    "    \n",
    "\n",
    "print(\"------ ordered by mean cost -------\")\n",
    "# Sort the methods by their mean cost\n",
    "sorted_methods = sorted(methods.items(), key=lambda x: np.mean(x[1]))\n",
    "\n",
    "# Print the sorted methods with their mean and standard deviation\n",
    "for method, costs in sorted_methods:\n",
    "    mean = np.mean(costs)\n",
    "    std = np.std(costs)\n",
    "    print(f\"{method}: Mean = {mean:.2f}, Std = {std:.2f}\")"
   ]
  }
 ],
 "metadata": {
  "kernelspec": {
   "display_name": "linprog",
   "language": "python",
   "name": "python3"
  },
  "language_info": {
   "codemirror_mode": {
    "name": "ipython",
    "version": 3
   },
   "file_extension": ".py",
   "mimetype": "text/x-python",
   "name": "python",
   "nbconvert_exporter": "python",
   "pygments_lexer": "ipython3",
   "version": "3.11.8"
  }
 },
 "nbformat": 4,
 "nbformat_minor": 2
}
