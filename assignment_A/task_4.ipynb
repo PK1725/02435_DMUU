{
 "cells": [
  {
   "cell_type": "code",
   "execution_count": 13,
   "metadata": {},
   "outputs": [
    {
     "name": "stdout",
     "output_type": "stream",
     "text": [
      "The autoreload extension is already loaded. To reload it, use:\n",
      "  %reload_ext autoreload\n"
     ]
    }
   ],
   "source": [
    "import sys\n",
    "sys.path.append(\"v2_Assignment_Codes\")  # Add the folder to the search path\n",
    "\n",
    "#load data\n",
    "from v2_data import get_fixed_data\n",
    "from PriceProcess import price_model\n",
    "from WindProcess import wind_model\n",
    "from utils import generate_time_series,generate_experiment_series\n",
    "\n",
    "import matplotlib.pyplot as plt\n",
    "import numpy as np\n",
    "from tqdm import tqdm\n",
    "from pyomo.environ import *\n",
    "from mdp import check_feasibility,sim_MDP_exp, sim_MDP, generate_scenarios\n",
    "\n",
    "%load_ext autoreload\n",
    "%autoreload 2\n"
   ]
  },
  {
   "cell_type": "code",
   "execution_count": 14,
   "metadata": {},
   "outputs": [],
   "source": [
    "data = get_fixed_data()\n",
    "T = data['num_timeslots']"
   ]
  },
  {
   "cell_type": "code",
   "execution_count": 15,
   "metadata": {},
   "outputs": [],
   "source": [
    "# ensure we always use the same time series for all tasks and experiments\n",
    "prices,winds = generate_experiment_series()"
   ]
  },
  {
   "cell_type": "markdown",
   "metadata": {},
   "source": [
    "# Task 4"
   ]
  },
  {
   "cell_type": "code",
   "execution_count": 16,
   "metadata": {},
   "outputs": [],
   "source": [
    "import random\n",
    "\n",
    "np.random.seed(42)\n",
    "random.seed(42)\n",
    "\n",
    "E = 20"
   ]
  },
  {
   "cell_type": "markdown",
   "metadata": {},
   "source": [
    "## Evaluate the policies "
   ]
  },
  {
   "cell_type": "code",
   "execution_count": 17,
   "metadata": {},
   "outputs": [],
   "source": [
    "from mdp import dummy_policy, sim_optimal_in_hindsight, MultiStagePolicy, ADPPolicy, sample_representative_state_pairs, ValueFunction,backward_value_approx\n"
   ]
  },
  {
   "cell_type": "markdown",
   "metadata": {},
   "source": [
    "### Dummy Policy"
   ]
  },
  {
   "cell_type": "code",
   "execution_count": 18,
   "metadata": {},
   "outputs": [
    {
     "name": "stderr",
     "output_type": "stream",
     "text": [
      "Simulating MDP: 100%|██████████| 20/20 [00:00<00:00, 13202.09it/s]\n"
     ]
    }
   ],
   "source": [
    "mean_dummy, costs_dummy = sim_MDP(E,dummy_policy,winds,prices)"
   ]
  },
  {
   "cell_type": "markdown",
   "metadata": {},
   "source": [
    "### Optimal-in-hindsight solution"
   ]
  },
  {
   "cell_type": "code",
   "execution_count": 19,
   "metadata": {},
   "outputs": [
    {
     "name": "stderr",
     "output_type": "stream",
     "text": [
      "Simulating OIH: 100%|██████████| 20/20 [00:01<00:00, 14.60it/s]\n"
     ]
    }
   ],
   "source": [
    "mean_oih, costs_oih = sim_optimal_in_hindsight(E,winds,prices)"
   ]
  },
  {
   "cell_type": "markdown",
   "metadata": {},
   "source": [
    "### Stochastic programming policy for 4 configurations"
   ]
  },
  {
   "cell_type": "code",
   "execution_count": 20,
   "metadata": {},
   "outputs": [
    {
     "name": "stderr",
     "output_type": "stream",
     "text": [
      "Simulating MDP: 100%|██████████| 20/20 [00:39<00:00,  1.99s/it]\n",
      "Simulating MDP: 100%|██████████| 20/20 [01:56<00:00,  5.83s/it]\n",
      "Simulating MDP: 100%|██████████| 20/20 [01:57<00:00,  5.89s/it]\n",
      "Simulating MDP: 100%|██████████| 20/20 [01:26<00:00,  4.34s/it]\n"
     ]
    }
   ],
   "source": [
    "results = np.zeros((4,E))\n",
    "\n",
    "multi_state_policy = MultiStagePolicy(L=2,k=500)\n",
    "_, results[0,:] = sim_MDP(E,multi_state_policy,winds,prices)\n",
    "\n",
    "multi_state_policy = MultiStagePolicy(L=3,k=18)\n",
    "_, results[1,:] = sim_MDP(E,multi_state_policy,winds,prices)\n",
    "\n",
    "multi_state_policy = MultiStagePolicy(L=4,k=6)\n",
    "_, results[2,:] = sim_MDP(E,multi_state_policy,winds,prices)\n",
    "\n",
    "multi_state_policy = MultiStagePolicy(L=7,k=2)\n",
    "_, results[3,:] = sim_MDP(E,multi_state_policy,winds,prices)\n"
   ]
  },
  {
   "cell_type": "markdown",
   "metadata": {},
   "source": [
    "### Expected value policy"
   ]
  },
  {
   "cell_type": "code",
   "execution_count": 21,
   "metadata": {},
   "outputs": [],
   "source": [
    "from utils import generate_time_series_from_initial_state\n",
    "\n",
    "def solve_multi_stage_model(t_start,scenarios,a_set,scenario_probs,price,wind,h_0,e_on_0):\n",
    "    T = price.shape[0] #Ø WAS HERE: Changed from len(scenarios). Note 'scenarios' is now an unused input\n",
    "    S = price.shape[1] #Ø WAS HERE: Changed from len(scenarios[-1])\n",
    "    \n",
    "    # Create a model\n",
    "    model = ConcreteModel()\n",
    "    # Declare indexed variable for the price\n",
    "    model.p_grid = Var(range(T),range(S), within=NonNegativeReals,name='p_grid')\n",
    "    model.e_h2p = Var(range(T),range(S), within=NonNegativeReals,bounds=(0,data['h2p_max_rate']),name='e_h2p')\n",
    "    model.e_p2h = Var(range(T),range(S), within=NonNegativeReals,bounds=(0,data['p2h_max_rate']),name='e_p2h')\n",
    "    model.e_on = Var(range(-1,T-1),range(S), within=Binary,name='e_on',initialize=0)\n",
    "\n",
    "    model.h = Var(range(T),range(S), within=NonNegativeReals,bounds=(0,data['hydrogen_capacity']),name='h')\n",
    "\n",
    "    vars = [model.p_grid,model.e_h2p,model.e_p2h,model.e_on,model.h]\n",
    "\n",
    "    model.non_anticipativity = ConstraintList()\n",
    "    for var in vars:\n",
    "        for t in range(T-1):\n",
    "            #for s in range(S):\n",
    "                # find s index in a_set[t]\n",
    "                # s_relative = s % len(a_set[t])\n",
    "                # for s_prime in a_set[t][s_relative]: \n",
    "                #     model.non_anticipativity.add(var[t, s] == var[t, s_prime])\n",
    "            for a_subset in a_set[t]:\n",
    "                sprime = a_subset[0]\n",
    "                for s in a_subset:\n",
    "                    model.non_anticipativity.add(var[t, s] == var[t, sprime])\n",
    "                \n",
    "\n",
    "\n",
    "    # Objective function\n",
    "    def objective_rule(model):\n",
    "        return sum(scenario_probs[s]*(price[t,s] * model.p_grid[t,s] + data['electrolyzer_cost']*model.e_on[t-1,s]) for s in range(S) for t in range(T))\n",
    "    \n",
    "    model.profit = Objective(rule=objective_rule, sense=minimize)\n",
    "\n",
    "    model.DemandConstraint = Constraint(range(T),range(S), rule=lambda model, t,s: model.p_grid[t,s] + wind[t,s] + data['conversion_h2p']*model.e_h2p[t,s] - model.e_p2h[t,s] >= data['demand_schedule'][t_start+t])\n",
    "\n",
    "    # contraints\n",
    "    model.h_contraint = Constraint(range(T-1), range(S), rule=lambda model, t, s: model.h[t+1, s] == model.h[t, s] + data['conversion_p2h']*model.e_p2h[t, s] - model.e_h2p[t, s])\n",
    "\n",
    "    model.p2h_constraint = Constraint(range(T), range(S), rule=lambda model, t, s:  model.e_h2p[t, s] <= model.h[t, s])\n",
    "    model.p2h_constraint2 = Constraint(range(T),range(S),rule=lambda model,t,s: data['conversion_h2p']*model.e_h2p[t, s] <= data['h2p_max_rate'])\n",
    "    \n",
    "    model.conversion_contraint = Constraint(range(T), range(S), rule=lambda model, t, s:  data['conversion_p2h']*model.e_p2h[t, s] <= data['p2h_max_rate']*model.e_on[t-1, s])\n",
    "\n",
    "    model.tank_start = Constraint(range(S), rule=lambda model, s: model.h[0, s] == h_0)\n",
    "\n",
    "    model.electrolyser_start = Constraint(range(S), rule=lambda model, s: model.e_on[-1, s] == e_on_0)\n",
    "\n",
    "    # Create a solver\n",
    "    solver = SolverFactory('gurobi') \n",
    "\n",
    "    # Solve the model\n",
    "    results = solver.solve(model, tee=False)\n",
    "    #print(f\"S= {S}, T={T}, n_variables={len(list(model.component_objects(Var)))}\")\n",
    "    return results,model\n",
    "\n",
    "\n",
    "\n",
    "class ExpectedValuePolicy:\n",
    "    #Ø WAS HERE\n",
    "    \n",
    "    \n",
    "    def __init__(self, L=4,k=3):\n",
    "        self.L = L\n",
    "        self.k = k\n",
    "\n",
    "    def __call__(self, t, h, e_on, wind, wind_previous, price, price_previous,data):\n",
    "        L = min(self.L, data['num_timeslots'] - t) - 1\n",
    "\n",
    "        #old_scenarios, old_scenario_probs = generate_scenarios(wind, price, wind_previous, price_previous, L, k=self.k)\n",
    "\n",
    "        scenarios = [generate_time_series_from_initial_state(wind, price, wind_previous, price_previous, L+1) for _ in range(self.k)]\n",
    "        #NOTE: L+1... not sure why\n",
    "    \n",
    "        price_matrix = np.array([prices for prices, _ in scenarios]).T\n",
    "        wind_matrix = np.array([winds for _, winds in scenarios]).T\n",
    "        \n",
    "        #expected value, yielding a single scenario\n",
    "        price_matrix = np.mean(price_matrix, axis=1, keepdims=True) #along sample axis\n",
    "        wind_matrix = np.mean(wind_matrix, axis=1, keepdims=True)\n",
    "        \n",
    "        a_set = [[[0]] for _ in range(L+1)] #at each time there is only one scenario --> only one equivalence class --> the set of indeces of elements of that class is [0]\n",
    "        scenario_probs = [[1]]\n",
    "        \n",
    "        #note second input 'scenarios' is unused\n",
    "        results, model = solve_multi_stage_model(t, _, a_set, scenario_probs[-1], price_matrix, wind_matrix, h, e_on)\n",
    "\n",
    "        if not results.solver.termination_condition == TerminationCondition.optimal:\n",
    "            raise ValueError(f\"Optimal solution not found t={t}\")\n",
    "        \n",
    "        #get info on e_on\n",
    "        \n",
    "        e_on = value(model.e_on[0, 0]) if t < data['num_timeslots'] - 1 else 0\n",
    "        e_p2h = value(model.e_p2h[0, 0])\n",
    "        e_h2p = value(model.e_h2p[0, 0])\n",
    "        p_grid = value(model.p_grid[0, 0])\n",
    "        return e_on, e_p2h, e_h2p, p_grid"
   ]
  },
  {
   "cell_type": "code",
   "execution_count": 22,
   "metadata": {},
   "outputs": [
    {
     "name": "stderr",
     "output_type": "stream",
     "text": [
      "Simulating MDP: 100%|██████████| 20/20 [00:45<00:00,  2.27s/it]\n"
     ]
    }
   ],
   "source": [
    "expected_value_policy = ExpectedValuePolicy(L=24,k=1000)\n",
    "mean_ev, costs_ev = sim_MDP(E,expected_value_policy,winds,prices)"
   ]
  },
  {
   "cell_type": "markdown",
   "metadata": {},
   "source": [
    "### ADP Policy"
   ]
  },
  {
   "cell_type": "code",
   "execution_count": 23,
   "metadata": {},
   "outputs": [
    {
     "name": "stdout",
     "output_type": "stream",
     "text": [
      "t=23\n",
      "2680.6452947185626\n",
      "65.71406903328194\n",
      "t=22\n",
      "2501.9929034060806\n",
      "43.30710941399329\n",
      "t=21\n",
      "2237.0402486006087\n",
      "82.98896782114193\n",
      "t=20\n",
      "2210.055620229106\n",
      "30.85227521890459\n",
      "t=19\n",
      "2093.89079057404\n",
      "80.8124608844039\n",
      "t=18\n",
      "2498.3808058309874\n",
      "42.62158012239535\n",
      "t=17\n",
      "2557.6086138184487\n",
      "40.20309441031469\n",
      "t=16\n",
      "3049.9975555200717\n",
      "41.36899334149618\n",
      "t=15\n",
      "3413.2094686206337\n",
      "23.787672035602814\n",
      "t=14\n",
      "3410.522927331134\n",
      "66.94344629147426\n",
      "t=13\n",
      "3059.674683018122\n",
      "150.52687663418482\n",
      "t=12\n",
      "2537.596066419629\n",
      "186.4992105725195\n",
      "t=11\n",
      "2334.1055950358436\n",
      "251.89578894745358\n",
      "t=10\n",
      "2089.434065501441\n",
      "366.68352561751055\n",
      "t=9\n",
      "3556.5685159076224\n",
      "712.7320660961706\n",
      "t=8\n",
      "5282.759432850638\n",
      "802.32132000681\n",
      "t=7\n",
      "6581.026030114897\n",
      "642.412408712343\n",
      "t=6\n",
      "9371.474513451845\n",
      "1069.0162721561735\n",
      "t=5\n",
      "10391.2325387449\n",
      "1130.1318724369428\n",
      "t=4\n",
      "9588.092329364888\n",
      "1059.534885772856\n",
      "t=3\n",
      "8246.141079473926\n",
      "303.80901160904955\n",
      "t=2\n",
      "6569.948416749863\n",
      "735.213553372806\n",
      "t=1\n",
      "5063.476628277114\n",
      "124.27362673245612\n",
      "t=0\n",
      "1770.4794377732178\n",
      "25.885847716648897\n"
     ]
    }
   ],
   "source": [
    "# fit value function\n",
    "state_pairs = sample_representative_state_pairs(100)\n",
    "V = backward_value_approx(ValueFunction(data['num_timeslots'],7),state_pairs,100,data)"
   ]
  },
  {
   "cell_type": "code",
   "execution_count": 24,
   "metadata": {},
   "outputs": [
    {
     "name": "stderr",
     "output_type": "stream",
     "text": [
      "Simulating MDP: 100%|██████████| 20/20 [00:23<00:00,  1.19s/it]\n"
     ]
    }
   ],
   "source": [
    "# evaluate policy\n",
    "adp_policy = ADPPolicy(V, data)\n",
    "mean_adp, costs_adp = sim_MDP(E,adp_policy,winds,prices)"
   ]
  },
  {
   "cell_type": "code",
   "execution_count": 25,
   "metadata": {},
   "outputs": [
    {
     "name": "stdout",
     "output_type": "stream",
     "text": [
      "Results saved to 'results/results_data.pkl'\n"
     ]
    }
   ],
   "source": [
    "import os\n",
    "import pickle\n",
    "\n",
    "# Ensure the \"results\" folder exists\n",
    "os.makedirs(\"results\", exist_ok=True)\n",
    "\n",
    "# Load existing results if the file exists\n",
    "results_file = \"results/results_data.pkl\"\n",
    "if os.path.exists(results_file):\n",
    "    with open(results_file, \"rb\") as file:\n",
    "        results_data = pickle.load(file)\n",
    "else:\n",
    "    results_data = {}\n",
    "\n",
    "# Prepare the data to save (override or add new values)\n",
    "optional_values = {\n",
    "    \"mean_dummy\": mean_dummy if 'mean_dummy' in locals() else None,\n",
    "    \"costs_dummy\": costs_dummy if 'costs_dummy' in locals() else None,\n",
    "    \"mean_oih\": mean_oih if 'mean_oih' in locals() else None,\n",
    "    \"costs_oih\": costs_oih if 'costs_oih' in locals() else None,\n",
    "    \"mean_ev\": mean_ev if 'mean_ev' in locals() else None,\n",
    "    \"costs_ev\": costs_ev if 'costs_ev' in locals() else None,\n",
    "    \"mean_adp\": mean_adp if 'mean_adp' in locals() else None,\n",
    "    \"costs_adp\": costs_adp if 'costs_adp' in locals() else None,\n",
    "    \"results\": results if 'results' in locals() else None,\n",
    "    \"data\": data if 'data' in locals() else None,\n",
    "    \"prices\": prices if 'prices' in locals() else None,\n",
    "    \"winds\": winds if 'winds' in locals() else None,\n",
    "    \"state_pairs\": state_pairs if 'state_pairs' in locals() else None\n",
    "}\n",
    "\n",
    "# Filter out None values\n",
    "filtered_values = {key: value for key, value in optional_values.items() if value is not None}\n",
    "\n",
    "# Update the results data\n",
    "results_data.update(filtered_values)\n",
    "\n",
    "# Save the updated data to the file\n",
    "with open(results_file, \"wb\") as file:\n",
    "    pickle.dump(results_data, file)\n",
    "\n",
    "print(f\"Results saved to '{results_file}'\")"
   ]
  },
  {
   "cell_type": "code",
   "execution_count": 26,
   "metadata": {},
   "outputs": [
    {
     "data": {
      "image/png": "[encoded data removed]",
      "text/plain": [
       "<Figure size 2000x1000 with 8 Axes>"
      ]
     },
     "metadata": {},
     "output_type": "display_data"
    }
   ],
   "source": [
    "import pickle\n",
    "\n",
    "# Load the results data from the file\n",
    "with open(\"results/results_data.pkl\", \"rb\") as file:\n",
    "    results_data = pickle.load(file)\n",
    "\n",
    "# Extract the necessary data\n",
    "costs_dummy = results_data[\"costs_dummy\"]\n",
    "costs_oih = results_data[\"costs_oih\"]\n",
    "costs_ev = results_data[\"costs_ev\"]\n",
    "costs_adp = results_data[\"costs_adp\"]\n",
    "results = results_data[\"results\"]\n",
    "\n",
    "plt.rcParams.update({'font.size': 15})\n",
    "fig, axes = plt.subplots(2, 4, figsize=(20, 10))\n",
    "\n",
    "# Define a common range for the x-axis\n",
    "common_xlim = (0, max(max(costs_dummy), max(costs_oih), max(costs_ev), max(costs_adp), results.max()))\n",
    "\n",
    "# Define consistent colors for histograms and lines\n",
    "hist_color = 'blue'\n",
    "mean_color = 'green'\n",
    "median_color = 'orange'\n",
    "\n",
    "# First row: Dummy, OIH, EV, and ADP policies\n",
    "for i, (costs, title) in enumerate(zip(\n",
    "    [costs_oih, costs_dummy, costs_ev, costs_adp],\n",
    "    [\"OIH Solution\", \"Dummy Policy\", \"EV Policy\", \"ADP Policy\"]\n",
    ")):\n",
    "    axes[0, i].hist(costs, bins=20, color=hist_color, alpha=0.7)\n",
    "    axes[0, i].axvline(np.mean(costs), color=mean_color, linewidth=2, label='Mean')\n",
    "    axes[0, i].axvline(np.median(costs), color=median_color, linewidth=2, label='Median')\n",
    "    axes[0, i].set_title(title)\n",
    "    axes[0, i].set_xlabel(\"Cost\")\n",
    "    axes[0, i].set_ylabel(\"Frequency\")\n",
    "    axes[0, i].set_xlim(common_xlim)\n",
    "\n",
    "config = [\"L=2,k=99\", \"L=3,k=8\", \"L=4,k=3\", \"L=6,k=2\"]\n",
    "\n",
    "# Second row: Multi-state policies for 4 configurations\n",
    "for i in range(4):\n",
    "    axes[1, i].hist(results[i, :], bins=20, color=hist_color, alpha=0.7)\n",
    "    axes[1, i].axvline(np.mean(results[i, :]), color=mean_color, linewidth=2, label='Mean')\n",
    "    axes[1, i].axvline(np.median(results[i, :]), color=median_color, linewidth=2, label='Median')\n",
    "    axes[1, i].set_title(f\"Multi-Stage Policy, {config[i]}\")\n",
    "    axes[1, i].set_xlabel(\"Cost\")\n",
    "    axes[1, i].set_ylabel(\"Frequency\")\n",
    "    axes[1, i].set_xlim(common_xlim)\n",
    "\n",
    "# Add a common legend\n",
    "handles = [\n",
    "    plt.Line2D([0], [0], color=mean_color, linewidth=2, label='Mean'),\n",
    "    plt.Line2D([0], [0], color=median_color, linewidth=2, label='Median')\n",
    "]\n",
    "fig.legend(handles=handles, loc='upper center', ncol=2, fontsize=18)\n",
    "plt.tight_layout(rect=[0, 0.00, 1, 0.95])  # Adjust layout to make space for the legend\n",
    "plt.savefig(\"figures/policy_comparison.pdf\", dpi=300, bbox_inches='tight')\n",
    "plt.show()"
   ]
  },
  {
   "cell_type": "code",
   "execution_count": 27,
   "metadata": {},
   "outputs": [
    {
     "name": "stdout",
     "output_type": "stream",
     "text": [
      "Dummy Policy: Mean = 618.46, Std = 331.41\n",
      "OIH Policy: Mean = 421.44, Std = 342.30\n",
      "EV Policy: Mean = 557.04, Std = 361.15\n",
      "ADP Policy: Mean = 527.53, Std = 367.18\n",
      "Multi-State Policy (L=2, k=99): Mean = 618.46, Std = 331.41\n",
      "Multi-State Policy (L=3, k=8): Mean = 577.13, Std = 347.92\n",
      "Multi-State Policy (L=4, k=3): Mean = 542.69, Std = 351.98\n",
      "Multi-State Policy (L=6, k=2): Mean = 518.38, Std = 375.60\n",
      "------ ordered by mean cost -------\n",
      "OIH Policy: Mean = 421.44, Std = 342.30\n",
      "Multi-State Policy (L=6, k=2): Mean = 518.38, Std = 375.60\n",
      "ADP Policy: Mean = 527.53, Std = 367.18\n",
      "Multi-State Policy (L=4, k=3): Mean = 542.69, Std = 351.98\n",
      "EV Policy: Mean = 557.04, Std = 361.15\n",
      "Multi-State Policy (L=3, k=8): Mean = 577.13, Std = 347.92\n",
      "Multi-State Policy (L=2, k=99): Mean = 618.46, Std = 331.41\n",
      "Dummy Policy: Mean = 618.46, Std = 331.41\n"
     ]
    }
   ],
   "source": [
    "methods = {\n",
    "    \"Dummy Policy\": costs_dummy,\n",
    "    \"OIH Policy\": costs_oih,\n",
    "    \"EV Policy\": costs_ev,\n",
    "    \"ADP Policy\": costs_adp,\n",
    "    \"Multi-State Policy (L=2, k=99)\": results[0, :],\n",
    "    \"Multi-State Policy (L=3, k=8)\": results[1, :],\n",
    "    \"Multi-State Policy (L=4, k=3)\": results[2, :],\n",
    "    \"Multi-State Policy (L=6, k=2)\": results[3, :]\n",
    "}\n",
    "\n",
    "for method, costs in methods.items():\n",
    "    mean = np.mean(costs)\n",
    "    std = np.std(costs)\n",
    "    print(f\"{method}: Mean = {mean:.2f}, Std = {std:.2f}\")\n",
    "    \n",
    "\n",
    "print(\"------ ordered by mean cost -------\")\n",
    "# Sort the methods by their mean cost\n",
    "sorted_methods = sorted(methods.items(), key=lambda x: np.mean(x[1]))\n",
    "\n",
    "# Print the sorted methods with their mean and standard deviation\n",
    "for method, costs in sorted_methods:\n",
    "    mean = np.mean(costs)\n",
    "    std = np.std(costs)\n",
    "    print(f\"{method}: Mean = {mean:.2f}, Std = {std:.2f}\")"
   ]
  }
 ],
 "metadata": {
  "kernelspec": {
   "display_name": "linprog",
   "language": "python",
   "name": "python3"
  },
  "language_info": {
   "codemirror_mode": {
    "name": "ipython",
    "version": 3
   },
   "file_extension": ".py",
   "mimetype": "text/x-python",
   "name": "python",
   "nbconvert_exporter": "python",
   "pygments_lexer": "ipython3",
   "version": "3.11.9"
  }
 },
 "nbformat": 4,
 "nbformat_minor": 2
}
